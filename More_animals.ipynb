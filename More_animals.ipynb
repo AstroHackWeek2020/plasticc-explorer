{
 "cells": [
  {
   "cell_type": "markdown",
   "metadata": {},
   "source": [
    "# More animals"
   ]
  },
  {
   "cell_type": "code",
   "execution_count": null,
   "metadata": {},
   "outputs": [],
   "source": [
    "import param\n",
    "import pandas as pd \n",
    "import matplotlib.pyplot as plt\n",
    "import seaborn as sns\n",
    "import panel as pn\n",
    "\n",
    "from bokeh.plotting import figure, output_file, show\n",
    "\n",
    "from ipywidgets import interact\n",
    "import numpy as np\n",
    "\n",
    "from bokeh.plotting import figure\n",
    "\n",
    "pn.extension()"
   ]
  },
  {
   "cell_type": "code",
   "execution_count": null,
   "metadata": {},
   "outputs": [],
   "source": [
    "# prepare some data\n",
    "x = [1, 2, 3, 4, 5]\n",
    "y = [6, 7, 2, 4, 5]\n",
    "\n",
    "# output to static HTML file\n",
    "output_file(\"lines.html\")\n",
    "\n",
    "# create a new plot with a title and axis labels\n",
    "p = figure(title=\"simple line example\", x_axis_label='x', y_axis_label='y')\n",
    "\n",
    "# add a line renderer with legend and line thickness\n",
    "p.line(x, y, legend_label=\"Temp.\", line_width=2)\n",
    "\n",
    "# show the results\n",
    "show(p)"
   ]
  },
  {
   "cell_type": "code",
   "execution_count": null,
   "metadata": {},
   "outputs": [],
   "source": [
    "from datetime import date\n",
    "from random import randint\n",
    "\n",
    "from bokeh.io import show\n",
    "from bokeh.models import ColumnDataSource, DataTable, DateFormatter, TableColumn\n",
    "\n",
    "data = dict(\n",
    "        dates=[date(2014, 3, i+1) for i in range(30)],\n",
    "        downloads=[randint(0, 100) for i in range(30)],\n",
    "    )\n",
    "source = ColumnDataSource(data)\n",
    "\n",
    "columns = [\n",
    "        TableColumn(field=\"dates\", title=\"Date\", formatter=DateFormatter()),\n",
    "        TableColumn(field=\"downloads\", title=\"Downloads\"),\n",
    "    ]\n",
    "data_table = DataTable(source=source, columns=columns, width=400, height=280)\n",
    "\n",
    "show(data_table)"
   ]
  },
  {
   "cell_type": "code",
   "execution_count": null,
   "metadata": {},
   "outputs": [],
   "source": [
    "df = pd.DataFrame({'Animal':['Pig', 'Goat' ,'Sheep', 'Frog', 'Goat', 'Goat', 'Pig', 'Sheep', \n",
    "                             'Octopus', 'Goat', 'Pig', 'Sheep', 'Octopus', 'Frog', 'Goat', 'Goat',\n",
    "                            'Pig', 'Pig', 'Sheep', 'Frog', 'Frog', 'Octopus', 'Octopus'], \n",
    "                   'Rating':[3, 10, 3, 2, 9, 10, 4, 1, \n",
    "                             1, 8, 5, 6, 2, 4, 10, 9,\n",
    "                            5, 5, 3, 2, 3, 1, 1]})"
   ]
  },
  {
   "cell_type": "code",
   "execution_count": null,
   "metadata": {},
   "outputs": [],
   "source": [
    "source = ColumnDataSource(df)\n",
    "\n",
    "columns = [\n",
    "        TableColumn(field=\"Animal\", title=\"Animal\"),\n",
    "        TableColumn(field=\"Rating\", title=\"Rating (of the animal)\"),\n",
    "    ]\n",
    "data_table = DataTable(source=source, columns=columns, width=400, height=280)\n",
    "\n",
    "show(data_table)"
   ]
  },
  {
   "cell_type": "code",
   "execution_count": null,
   "metadata": {},
   "outputs": [],
   "source": [
    "x = np.linspace(0, 2*np.pi, 2000)\n",
    "y = np.sin(x)"
   ]
  },
  {
   "cell_type": "code",
   "execution_count": null,
   "metadata": {},
   "outputs": [],
   "source": [
    "p = figure(title=\"simple line example\", plot_height=300, plot_width=600, y_range=(-5,5),\n",
    "           background_fill_color='#efefef')\n",
    "r = p.line(x, y, color=\"#8888cc\", line_width=1.5, alpha=0.8)"
   ]
  },
  {
   "cell_type": "code",
   "execution_count": null,
   "metadata": {},
   "outputs": [],
   "source": [
    "def update(f, w=1, A=1, phi=0):\n",
    "    if   f == \"sin\": func = np.sin\n",
    "    elif f == \"cos\": func = np.cos\n",
    "    r.data_source.data['y'] = A * func(w * x + phi)"
   ]
  },
  {
   "cell_type": "code",
   "execution_count": null,
   "metadata": {},
   "outputs": [],
   "source": [
    "show(p)"
   ]
  },
  {
   "cell_type": "code",
   "execution_count": null,
   "metadata": {
    "scrolled": true
   },
   "outputs": [],
   "source": [
    "interact(update, f=[\"sin\", \"cos\"], w=(0,50), A=(1,10), phi=(0, 20, 0.1))"
   ]
  },
  {
   "cell_type": "code",
   "execution_count": null,
   "metadata": {},
   "outputs": [],
   "source": [
    "from bokeh.layouts import gridplot\n",
    "from bokeh.models import CDSView, ColumnDataSource, GroupFilter\n",
    "from bokeh.plotting import figure, show\n",
    "from bokeh.sampledata.iris import flowers\n",
    "\n",
    "source = ColumnDataSource(flowers)\n",
    "view1 = CDSView(source=source, filters=[GroupFilter(column_name='species', group='versicolor')])\n",
    "\n",
    "plot_size_and_tools = {'plot_height': 300, 'plot_width': 300,\n",
    "                        'tools':['box_select', 'reset', 'help']}\n",
    "\n",
    "p1 = figure(title=\"Full data set\", **plot_size_and_tools)\n",
    "p1.circle(x='petal_length', y='petal_width', source=source, color='black')\n",
    "\n",
    "p2 = figure(title=\"Setosa only\", x_range=p1.x_range, y_range=p1.y_range, **plot_size_and_tools)\n",
    "p2.circle(x='petal_length', y='petal_width', source=source, view=view1, color='red')\n",
    "\n",
    "show(gridplot([[p1, p2]]))"
   ]
  },
  {
   "cell_type": "code",
   "execution_count": null,
   "metadata": {},
   "outputs": [],
   "source": []
  },
  {
   "cell_type": "code",
   "execution_count": null,
   "metadata": {},
   "outputs": [],
   "source": []
  },
  {
   "cell_type": "code",
   "execution_count": null,
   "metadata": {},
   "outputs": [],
   "source": []
  },
  {
   "cell_type": "code",
   "execution_count": null,
   "metadata": {
    "scrolled": false
   },
   "outputs": [],
   "source": [
    "import numpy as np\n",
    "\n",
    "from bokeh.layouts import column, grid\n",
    "from bokeh.models import ColumnDataSource, CustomJS, Slider\n",
    "from bokeh.plotting import figure, output_file, show\n",
    "\n",
    "output_file('dashboard.html')\n",
    "\n",
    "tools = 'pan'\n",
    "\n",
    "\n",
    "def bollinger():\n",
    "    # Define Bollinger Bands.\n",
    "    upperband = np.random.randint(100, 150+1, size=100)\n",
    "    lowerband = upperband - 100\n",
    "    x_data = np.arange(1, 101)\n",
    "\n",
    "    # Bollinger shading glyph:\n",
    "    band_x = np.append(x_data, x_data[::-1])\n",
    "    band_y = np.append(lowerband, upperband[::-1])\n",
    "\n",
    "    p = figure(x_axis_type='datetime', tools=tools)\n",
    "    p.patch(band_x, band_y, color='#7570B3', fill_alpha=0.2)\n",
    "\n",
    "    p.title.text = 'Bollinger Bands'\n",
    "    p.title_location = 'left'\n",
    "    p.title.align = 'left'\n",
    "    p.plot_height = 3\n",
    "    p.plot_width = 3\n",
    "    p.grid.grid_line_alpha = 0.4\n",
    "    return [p]\n",
    "\n",
    "\n",
    "def slider():\n",
    "    x = np.linspace(0, 10, 100)\n",
    "    y = np.sin(x)\n",
    "\n",
    "    source = ColumnDataSource(data=dict(x=x, y=y))\n",
    "\n",
    "    plot = figure(\n",
    "        y_range=(-10, 10), tools='', toolbar_location=None,\n",
    "        title=\"Sliders example\")\n",
    "    plot.line('x', 'y', source=source, line_width=3, line_alpha=0.6)\n",
    "\n",
    "    amp_slider = Slider(start=0.1, end=10, value=1, step=.1, title=\"Amplitude\")\n",
    "    freq_slider = Slider(start=0.1, end=10, value=1, step=.1, title=\"Frequency\")\n",
    "    phase_slider = Slider(start=0, end=6.4, value=0, step=.1, title=\"Phase\")\n",
    "    offset_slider = Slider(start=-5, end=5, value=0, step=.1, title=\"Offset\")\n",
    "\n",
    "    callback = CustomJS(args=dict(source=source, amp=amp_slider, freq=freq_slider, \n",
    "                                  phase=phase_slider, offset=offset_slider),\n",
    "                        code=\"\"\"\n",
    "        const data = source.data;\n",
    "        const A = amp.value;\n",
    "        const k = freq.value;\n",
    "        const phi = phase.value;\n",
    "        const B = offset.value;\n",
    "        const x = data['x']\n",
    "        const y = data['y']\n",
    "        for (var i = 0; i < x.length; i++) {\n",
    "            y[i] = B + A*Math.sin(k*x[i]+phi);\n",
    "        }\n",
    "        source.change.emit();\n",
    "    \"\"\")\n",
    "\n",
    "    amp_slider.js_on_change('value', callback)\n",
    "    freq_slider.js_on_change('value', callback)\n",
    "    phase_slider.js_on_change('value', callback)\n",
    "    offset_slider.js_on_change('value', callback)\n",
    "\n",
    "    widgets = column(amp_slider, freq_slider, phase_slider, offset_slider)\n",
    "    return [widgets, plot]\n",
    "\n",
    "\n",
    "def linked_panning():\n",
    "    N = 100\n",
    "    x = np.linspace(0, 4 * np.pi, N)\n",
    "    y1 = np.sin(x)\n",
    "    y2 = np.cos(x)\n",
    "    y3 = np.sin(x) + np.cos(x)\n",
    "\n",
    "    s1 = figure(tools=tools, plot_width=8, plot_height=3)\n",
    "    s1.circle(x, y1, color=\"navy\", size=8, alpha=0.5)\n",
    "    s2 = figure(tools=tools, x_range=s1.x_range, y_range=s1.y_range, plot_width=8, plot_height=3)\n",
    "    s2.circle(x, y2, color=\"firebrick\", size=8, alpha=0.5)\n",
    "    s3 = figure(tools='pan, box_select', x_range=s1.x_range, plot_width=8, plot_height=3)\n",
    "    s3.circle(x, y3, color=\"olive\", size=8, alpha=0.5)\n",
    "    return [s1, s2, s3]\n",
    "\n",
    "l = grid([\n",
    "    bollinger(),\n",
    "    slider(),\n",
    "    linked_panning(),\n",
    "], sizing_mode='stretch_both')\n",
    "\n",
    "show(l)"
   ]
  },
  {
   "cell_type": "code",
   "execution_count": null,
   "metadata": {},
   "outputs": [],
   "source": [
    "l = grid([\n",
    "    linked_panning()])\n",
    "\n",
    "show(l)"
   ]
  },
  {
   "cell_type": "markdown",
   "metadata": {},
   "source": [
    "<!–– Hide JupyterNotebook cell numbers etc ––!>\n",
    "<script>\n",
    "  $(document).ready(function(){\n",
    "    $('div.prompt').hide();\n",
    "    $('div.back-to-top').hide();\n",
    "    $('nav#menubar').hide();\n",
    "    $('.breadcrumb').hide();\n",
    "    $('.hidden-print').hide();\n",
    "    $('div.input').hide();\n",
    "  });\n",
    "</script>\n",
    "<footer id=\"attribution\" style=\"float:right; color:#999; background:#fff;\">\n",
    "Attribution: Created with Jupyter. Code toggle possible thanks to github.com/csaid.\n",
    "</footer>"
   ]
  }
 ],
 "metadata": {
  "kernelspec": {
   "display_name": "Python 3",
   "language": "python",
   "name": "python3"
  },
  "language_info": {
   "codemirror_mode": {
    "name": "ipython",
    "version": 3
   },
   "file_extension": ".py",
   "mimetype": "text/x-python",
   "name": "python",
   "nbconvert_exporter": "python",
   "pygments_lexer": "ipython3",
   "version": "3.7.7"
  }
 },
 "nbformat": 4,
 "nbformat_minor": 4
}
