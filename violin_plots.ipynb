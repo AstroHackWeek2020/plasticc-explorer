{
 "cells": [
  {
   "cell_type": "markdown",
   "metadata": {},
   "source": [
    "# Plotting codes that need to be moved to Bokeh: Violin Plots\n",
    "\n",
    "This is the plotting code without any of the code to generate the inputs. \n"
   ]
  },
  {
   "cell_type": "code",
   "execution_count": 1,
   "metadata": {},
   "outputs": [],
   "source": [
    "import bisect\n",
    "import numpy as np\n",
    "np.random.seed(42)\n",
    "import os\n",
    "import pandas as pd\n",
    "import pickle\n",
    "# from sklearn.neighbors.kde import KernelDensity\n",
    "import scipy.stats as sps\n",
    "# import seaborn as sns\n",
    "import sys\n",
    "\n",
    "epsilon = sys.float_info.epsilon"
   ]
  },
  {
   "cell_type": "code",
   "execution_count": 3,
   "metadata": {},
   "outputs": [],
   "source": [
    "import matplotlib as mpl\n",
    "# print(mpl.rcParams.items)\n",
    "mpl.use('PS')\n",
    "mpl.rcParams['text.usetex'] = False\n",
    "mpl.rcParams['mathtext.rm'] = 'serif'\n",
    "mpl.rcParams['font.family'] = 'serif'\n",
    "mpl.rcParams[\"font.family\"] = \"serif\"\n",
    "mpl.rcParams[\"mathtext.fontset\"] = \"dejavuserif\"\n",
    "mpl.rcParams['font.serif'] = 'DejaVu Serif'\n",
    "mpl.rcParams['axes.titlesize'] = 20\n",
    "mpl.rcParams['axes.labelsize'] = 16\n",
    "mpl.rcParams['xtick.labelsize'] = 12\n",
    "mpl.rcParams['ytick.labelsize'] = 12\n",
    "mpl.rcParams['savefig.dpi'] = 250\n",
    "mpl.rcParams['figure.dpi'] = 250\n",
    "mpl.rcParams['savefig.format'] = 'pdf'\n",
    "mpl.rcParams['savefig.bbox'] = 'tight'\n",
    "import matplotlib.pyplot as plt\n",
    "%matplotlib inline\n",
    "# print(mpl.rcParams.items)\n",
    "from matplotlib.colors import LogNorm\n",
    "\n",
    "import pylab\n",
    "from mpl_toolkits.axes_grid1 import ImageGrid\n",
    "from mpl_toolkits.axes_grid1.inset_locator import inset_axes\n",
    "\n",
    "def truncate_colormap(cmap, minval=0.0, maxval=1.0, n=100):\n",
    "    new_cmap = mpl.colors.LinearSegmentedColormap.from_list(\n",
    "        'trunc({n},{a:.2f},{b:.2f})'.format(n=cmap.name, a=minval, b=maxval),\n",
    "        cmap(np.linspace(minval, maxval, n)))\n",
    "    return new_cmap\n",
    "\n",
    "cmap = plt.get_cmap('hot_r')\n",
    "fave_cmap = truncate_colormap(cmap, 0.35, 1.0)\n"
   ]
  },
  {
   "cell_type": "code",
   "execution_count": 5,
   "metadata": {},
   "outputs": [],
   "source": [
    "#import proclam\n",
    "#from proclam import *"
   ]
  },
  {
   "cell_type": "code",
   "execution_count": 2,
   "metadata": {},
   "outputs": [],
   "source": [
    "label_dict = {90: 'SNIa',\n",
    "              67: 'SNIa-91bg',\n",
    "              52: 'SNIax',\n",
    "              42: 'SNII',\n",
    "              62: 'SNIbc',\n",
    "              95: 'SLSN-I',\n",
    "              15: 'TDE',\n",
    "              64: 'KN',\n",
    "              88: 'AGN',\n",
    "              92: 'RRL',\n",
    "              65: 'M-dwarf',\n",
    "              16: 'EB',\n",
    "              53: 'Mira',\n",
    "              6: r'$\\mu$Lens-Single'}\n",
    "\n",
    "true_labels = label_dict.copy()\n",
    "true_labels[991] = r'$\\mu$Lens-Binary'\n",
    "true_labels[992] = 'ILOT'\n",
    "true_labels[993] = 'CaRT'\n",
    "true_labels[994] = 'PISN'\n",
    "true_labels[995] = r'$mu$Lens-String'\n",
    "\n",
    "sub_labels = label_dict.copy()\n",
    "sub_labels[99] = 'Other'"
   ]
  },
  {
   "cell_type": "code",
   "execution_count": null,
   "metadata": {},
   "outputs": [],
   "source": [
    "def violins(contestant, one_target, index, class_dict, color='r'):\n",
    "    all_prob = pd.read_csv(os.path.join('submissions/'+contestant, 'probvecs'+str(one_target)+'true.csv'), index_col=index)\n",
    "    n_true = len(all_prob)\n",
    "    stretchfact = 2.5\n",
    "    loc = 0\n",
    "    fig, ax = plt.subplots(1, 1, figsize=(10, 5))\n",
    "    ax.set_title(str(n_true)+' true '+str(true_labels[one_target])+' by '+contestant)\n",
    "    ticklabels = []\n",
    "    maps = all_prob.idxmax(axis=1)\n",
    "    counts = maps.value_counts()\n",
    "#     print(counts.keys())\n",
    "    for cl_est in class_dict.keys():\n",
    "        if str(cl_est) in counts.keys():\n",
    "            nmax = str(counts[str(cl_est)])#str(np.around(counts[str(cl_est)]/float(n_true), 2))\n",
    "        else:\n",
    "            nmax = '0'\n",
    "        if cl_est == one_target or (one_target == 99 and str(cl_est)[:2] == '99'):\n",
    "            highlight = color\n",
    "            textcol = 'k'\n",
    "            alp = 0.75\n",
    "        else:\n",
    "            highlight = 'k'\n",
    "            textcol = color\n",
    "            alp = 0.25\n",
    "        data = np.exp(np.genfromtxt(os.path.join('submissions/'+contestant, 'violin'+str(one_target)+'true'+str(cl_est)+'pred.txt')))\n",
    "        if not np.all(data == 1.):\n",
    "            data = data / np.max(data)\n",
    "        else:\n",
    "            data = np.zeros_like(data)\n",
    "        wheremax = np.argmax(data)\n",
    "        ax.fill_betweenx(positions, stretchfact*loc - data, stretchfact*loc + data, alpha=alp, color=highlight, linewidth=0.1)\n",
    "        if wheremax < len(positions)/4:\n",
    "            whereprint = 'bottom'\n",
    "        elif wheremax > 3 * len(positions) / 4:\n",
    "            whereprint = 'top'\n",
    "        else:\n",
    "            whereprint = 'center'\n",
    "        ax.text(stretchfact*loc, positions[wheremax], nmax, fontsize=12, color=textcol, ha='center', va=whereprint, rotation=90)#fontweight='bold', \n",
    "        loc += 1\n",
    "        ticklabels.append(sub_labels[cl_est])\n",
    "    ax.set_xticks(stretchfact * np.arange(loc))\n",
    "    ax.set_xticklabels(ticklabels, rotation=45, ha=\"right\")\n",
    "    ax.set_xlabel('predicted class')\n",
    "    ax.set_ylabel('probability')\n",
    "    fig.savefig(os.path.join('submissions/'+contestant, 'violin_'+true_labels[one_target]+'.png'))"
   ]
  },
  {
   "cell_type": "code",
   "execution_count": null,
   "metadata": {},
   "outputs": [],
   "source": [
    "color_dict = {'1_Kyle': '#6344EE', '2_MikeSilogram': '#E873AB', '3_MajorTom': '#FFB81F', 'validation': '#30362F'}"
   ]
  },
  {
   "cell_type": "code",
   "execution_count": null,
   "metadata": {},
   "outputs": [],
   "source": [
    "contestants = ['1_Kyle', '2_MikeSilogram', '3_MajorTom']\n",
    "all_contestants = ['validation'] + contestants"
   ]
  },
  {
   "cell_type": "code",
   "execution_count": null,
   "metadata": {},
   "outputs": [],
   "source": [
    "for contestant in contestants:\n",
    "    for one_target in truth.true_target.unique():#label_dict:\n",
    "#         violins(contestant, one_target, 'objids', label_dict, color='#00A878')\n",
    "        violins(contestant, one_target, 'object_id', sub_labels, color=color_dict[contestant])"
   ]
  },
  {
   "cell_type": "code",
   "execution_count": null,
   "metadata": {},
   "outputs": [],
   "source": [
    "    for one_target in label_dict.keys():#truth.true_target.unique():#label_dict:\n",
    "#         violins(contestant, one_target, 'objids', label_dict, color='#00A878')\n",
    "        violins(contestant, one_target, 'object_id', label_dict, color=color_dict[contestant])"
   ]
  },
  {
   "cell_type": "markdown",
   "metadata": {},
   "source": []
  },
  {
   "cell_type": "code",
   "execution_count": null,
   "metadata": {},
   "outputs": [],
   "source": []
  }
 ],
 "metadata": {
  "kernelspec": {
   "display_name": "py37",
   "language": "python",
   "name": "py37"
  },
  "language_info": {
   "codemirror_mode": {
    "name": "ipython",
    "version": 3
   },
   "file_extension": ".py",
   "mimetype": "text/x-python",
   "name": "python",
   "nbconvert_exporter": "python",
   "pygments_lexer": "ipython3",
   "version": "3.7.6"
  }
 },
 "nbformat": 4,
 "nbformat_minor": 2
}
