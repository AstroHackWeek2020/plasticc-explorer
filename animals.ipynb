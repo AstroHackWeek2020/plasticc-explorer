{
 "cells": [
  {
   "cell_type": "code",
   "execution_count": null,
   "metadata": {},
   "outputs": [],
   "source": [
    "import param\n",
    "import pandas as pd \n",
    "import matplotlib.pyplot as plt\n",
    "import seaborn as sns\n",
    "import panel as pn\n",
    "pn.extension()\n",
    "\n",
    "# make plots static\n",
    "%matplotlib inline\n",
    "\n",
    "# create a simple dataframe of animal ratings\n",
    "# df = pd.DataFrame({'Animal':['Pig', 'Goat' ,'Sheep', 'Frog', 'Goat', 'Goat', 'Pig', 'Sheep', \n",
    "#                              'Octopus', 'Goat', 'Pig', 'Sheep', 'Octopus', 'Frog', 'Goat', 'Goat',\n",
    "#                             'Pig', 'Pig', 'Sheep', 'Frog', 'Frog', 'Octopus', 'Octopus'], \n",
    "#                    'Rating':[3, 10, 3, 2, 9, 10, 4, 1, \n",
    "#                              1, 8, 5, 6, 2, 4, 10, 9,\n",
    "#                             5, 5, 3, 2, 3, 1, 1]})\n",
    "# df.to_csv('animals.csv')\n",
    "df = pd.read_csv('animals.csv')\n",
    "\n",
    "# create a class containing an animal selector drop-down, various plots, and a data table output\n",
    "class RatingsDashboard(param.Parameterized):\n",
    "    \n",
    "    # drop down selector widget containing the list of animals, with the default being 'Goat'\n",
    "    Animal = param.ObjectSelector(default='Goat', objects=list(df.Animal.unique()))\n",
    "    \n",
    "    # create data set containing only the data applicable to the animal in the drop down selector\n",
    "    def get_data(self):\n",
    "        class_df = df[(df.Animal==self.Animal)].copy()\n",
    "        return class_df\n",
    "    \n",
    "    # seaborn box plot for the chosen animal\n",
    "    def box_view(self):\n",
    "        data = self.get_data() \n",
    "        ax = sns.boxplot(data['Rating'])\n",
    "        plt.close()\n",
    "        return ax.figure\n",
    "    \n",
    "    # table of data for the chosen animal\n",
    "    def table_view(self):\n",
    "        data = self.get_data()\n",
    "        return data\n",
    "    \n",
    "    # table of data for the chosen animal\n",
    "    def plot_view(self):\n",
    "        data = self.get_data()\n",
    "        fig = px.scatter(x=x_data, y=y_data)\n",
    "        #fig.show()\n",
    "        return fig.show()\n",
    "\n",
    "# create an instance of the class\n",
    "rd = RatingsDashboard(name='')\n",
    "\n",
    "# create a title for the dashboard\n",
    "dashboard_title = '# Animal Ratings Dashboard'\n",
    "\n",
    "# create some text describing the dashboard\n",
    "dashboard_desc = 'An example of a simple interactive HoloViz Panel dashboard using a'\\\n",
    "                 ' dummy data set of animal ratings.'\n",
    "\n",
    "# create a dashboard, defining the layout as one column containing the\n",
    "# dashboard title, dashboard description, 'Animal' drop down selector,\n",
    "# box plot, and data table\n",
    "dashboard = pn.Column(dashboard_title, \n",
    "                      dashboard_desc,   \n",
    "                      rd.param,       # 'Animal' drop down selector\n",
    "                      rd.box_view,    # box plot\n",
    "                      rd.table_view,   # data table\n",
    "                      rd.plot_view   # data plot\n",
    "                     )"
   ]
  },
  {
   "cell_type": "code",
   "execution_count": null,
   "metadata": {},
   "outputs": [],
   "source": [
    "# show the dashboard with the data embedded \n",
    "# (for using in an html download of the notebook so that \n",
    "# no 'callback' is required from the browser to get the data)\n",
    "dashboard.embed(max_opts = 2)"
   ]
  },
  {
   "cell_type": "code",
   "execution_count": null,
   "metadata": {},
   "outputs": [],
   "source": [
    "import sys\n",
    "import numpy as np\n",
    "import matplotlib.pyplot as plt\n",
    "\n",
    "\n",
    "def press(event):\n",
    "    print('press', event.key)\n",
    "    sys.stdout.flush()\n",
    "    if event.key == 'x':\n",
    "        visible = xl.get_visible()\n",
    "        xl.set_visible(not visible)\n",
    "        fig.canvas.draw()\n",
    "\n",
    "# Fixing random state for reproducibility\n",
    "np.random.seed(19680801)\n",
    "\n",
    "\n",
    "fig, ax = plt.subplots()\n",
    "\n",
    "fig.canvas.mpl_connect('key_press_event', press)\n",
    "\n",
    "ax.plot(np.random.rand(12), np.random.rand(12), 'go')\n",
    "xl = ax.set_xlabel('easy come, easy go')\n",
    "ax.set_title('Press a key')\n",
    "plt.show()\n"
   ]
  },
  {
   "cell_type": "code",
   "execution_count": null,
   "metadata": {},
   "outputs": [],
   "source": [
    "# import matplotlib.pyplot as plt\n",
    "# import numpy as np\n",
    "# import pandas as pd\n",
    "# import seaborn as sns"
   ]
  },
  {
   "cell_type": "code",
   "execution_count": null,
   "metadata": {},
   "outputs": [],
   "source": [
    "# %matplotlib inline\n",
    "\n",
    "# sns.set(font_scale=1.3, style=\"ticks\")"
   ]
  },
  {
   "cell_type": "code",
   "execution_count": null,
   "metadata": {},
   "outputs": [],
   "source": [
    "# x_data = 6*np.random.random(50)\n",
    "# y_data = np.sin(x_data)\n",
    "# plt.plot(x_data, y_data, '.')"
   ]
  },
  {
   "cell_type": "code",
   "execution_count": null,
   "metadata": {},
   "outputs": [],
   "source": [
    "# import plotly.express as px\n",
    "# fig = px.scatter(x=x_data, y=y_data)\n",
    "# fig.show()"
   ]
  },
  {
   "cell_type": "raw",
   "metadata": {},
   "source": [
    "<!–– Hide JupyterNotebook cell numbers etc ––!>\n",
    "<script>\n",
    "  $(document).ready(function(){\n",
    "    $('div.prompt').hide();\n",
    "    $('div.back-to-top').hide();\n",
    "    $('nav#menubar').hide();\n",
    "    $('.breadcrumb').hide();\n",
    "    $('.hidden-print').hide();\n",
    "    $('div.input').hide();\n",
    "  });\n",
    "</script>\n",
    "<footer id=\"attribution\" style=\"float:right; color:#999; background:#fff;\">\n",
    "Attribution: Created with Jupyter. Code toggle possible thanks to github.com/csaid.\n",
    "</footer>"
   ]
  }
 ],
 "metadata": {
  "kernelspec": {
   "display_name": "PLAsTiCC (Python 3)",
   "language": "python",
   "name": "plasticc_3"
  },
  "language_info": {
   "codemirror_mode": {
    "name": "ipython",
    "version": 3
   },
   "file_extension": ".py",
   "mimetype": "text/x-python",
   "name": "python",
   "nbconvert_exporter": "python",
   "pygments_lexer": "ipython3",
   "version": "3.8.2"
  }
 },
 "nbformat": 4,
 "nbformat_minor": 4
}
