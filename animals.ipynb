{
 "cells": [
  {
   "cell_type": "code",
   "execution_count": null,
<<<<<<< Updated upstream
   "metadata": {
    "scrolled": true
   },
=======
   "metadata": {},
>>>>>>> Stashed changes
   "outputs": [],
   "source": [
    "import param\n",
    "import pandas as pd \n",
    "import matplotlib.pyplot as plt\n",
    "import numpy as np\n",
    "import seaborn as sns\n",
    "import panel as pn\n",
    "import numpy as np\n",
    "pn.extension()\n",
    "\n",
    "import plotly.express as px\n",
    "\n",
    "# make plots static\n",
    "%matplotlib inline\n",
    "\n",
    "x_data = 6*np.random.random(50)\n",
    "y_data = np.sin(x_data)\n",
    "\n",
    "# create a simple dataframe of animal ratings\n",
    "# df = pd.DataFrame({'Animal':['Pig', 'Goat' ,'Sheep', 'Frog', 'Goat', 'Goat', 'Pig', 'Sheep', \n",
    "#                              'Octopus', 'Goat', 'Pig', 'Sheep', 'Octopus', 'Frog', 'Goat', 'Goat',\n",
    "#                             'Pig', 'Pig', 'Sheep', 'Frog', 'Frog', 'Octopus', 'Octopus'], \n",
    "#                    'Rating':[3, 10, 3, 2, 9, 10, 4, 1, \n",
    "#                              1, 8, 5, 6, 2, 4, 10, 9,\n",
    "#                             5, 5, 3, 2, 3, 1, 1]})\n",
    "# df.to_csv('animals.csv')\n",
    "# df = pd.read_csv('animals.csv')\n",
    "\n",
    "url = 'https://raw.githubusercontent.com/aimalz/plasticc-explorer/master/animals.csv'\n",
    "df = pd.read_csv(url)\n",
    "\n",
    "df_pd = pd.DataFrame()\n",
    "df_pd['x_vals'] = np.arange(10)\n",
    "df_pd['y_vals'] = np.random.random(10)\n",
    "\n",
    "# create a class containing an animal selector drop-down, various plots, and a data table output\n",
    "class RatingsDashboard(param.Parameterized):\n",
    "    \n",
    "    # drop down selector widget containing the list of animals, with the default being 'Goat'\n",
    "    Animal = param.ObjectSelector(default='Goat', objects=list(df.Animal.unique()))\n",
    "    \n",
    "    # create data set containing only the data applicable to the animal in the drop down selector\n",
    "    def get_data(self):\n",
    "        class_df = df[(df.Animal==self.Animal)].copy()\n",
    "        return class_df\n",
    "    \n",
    "    # seaborn box plot for the chosen animal\n",
    "    def box_view(self):\n",
    "        data = self.get_data() \n",
    "        ax = sns.boxplot(data['Rating'])\n",
    "        plt.close()\n",
    "        return ax.figure\n",
    "    \n",
    "    # table of data for the chosen animal\n",
    "    def table_view(self):\n",
    "        data = self.get_data()\n",
    "        return data\n",
    "    \n",
    "    # table of data for the chosen animal\n",
    "    \"\"\"def plot_view(self):\n",
    "        data = self.get_data()\n",
    "        fig = px.scatter(x=x_data, y=y_data)\n",
    "        #fig.show()\n",
    "        return fig.show()\"\"\"\n",
    "    \n",
    "    def select_row(self):\n",
    "        row=0\n",
    "        data = self.get_data()\n",
    "        animal = data.iloc[0]['Animal']\n",
    "        animal_to_number = {'Pig': 1, 'Goat':2 ,'Sheep':3, \n",
    "                            'Frog':4, 'Octopus':5}\n",
    "        row = animal_to_number[animal]\n",
    "        fig, ax = plt.subplots()\n",
    "        ax.plot(df_pd['x_vals'], row*.8*df_pd['y_vals'], 'o')\n",
    "        ax.set_xlabel('xxs')\n",
    "        ax.set_ylim(0, row+1)\n",
    "        plt.close()\n",
    "        return ax.figure\n",
    "\n",
    "# create an instance of the class\n",
    "rd = RatingsDashboard(name='')\n",
    "\n",
    "# create a title for the dashboard\n",
    "dashboard_title = '# Animal Ratings Dashboard'\n",
    "\n",
    "# create some text describing the dashboard\n",
    "dashboard_desc = 'An example of a simple interactive HoloViz Panel dashboard using a'\\\n",
    "                 ' dummy data set of animal ratings.'\n",
    "\n",
    "# create a dashboard, defining the layout as one column containing the\n",
    "# dashboard title, dashboard description, 'Animal' drop down selector,\n",
    "# box plot, and data table\n",
    "dashboard = pn.Column(dashboard_title, \n",
    "                      dashboard_desc,   \n",
    "                      rd.param,       # 'Animal' drop down selector\n",
    "                      rd.select_row,  # data plot\n",
    "                      rd.box_view,    # box plot\n",
    "                      rd.table_view,   # data table\n",
    "                      #rd.plot_view,   # data plot\n",
    "                     )"
   ]
  },
  {
   "cell_type": "code",
   "execution_count": null,
   "metadata": {},
   "outputs": [],
<<<<<<< Updated upstream
=======
   "source": []
  },
  {
   "cell_type": "code",
   "execution_count": null,
   "metadata": {
    "scrolled": false
   },
   "outputs": [],
>>>>>>> Stashed changes
   "source": [
    "# show the dashboard with the data embedded \n",
    "# (for using in an html download of the notebook so that \n",
    "# no 'callback' is required from the browser to get the data)\n",
    "dashboard.embed(max_opts = 2)"
   ]
  },
  {
   "cell_type": "code",
   "execution_count": null,
   "metadata": {},
   "outputs": [],
   "source": [
    "import matplotlib.pyplot as plt\n",
    "import numpy as np\n",
    "import pandas as pd\n",
    "import seaborn as sns"
   ]
  },
  {
   "cell_type": "code",
   "execution_count": null,
   "metadata": {},
   "outputs": [],
   "source": [
    "%matplotlib inline\n",
    "\n",
    "sns.set(font_scale=1.3, style=\"ticks\")"
   ]
  },
  {
   "cell_type": "code",
   "execution_count": null,
   "metadata": {},
   "outputs": [],
   "source": [
    "x_data = 6*np.random.random(50)\n",
    "y_data = np.sin(x_data)\n",
    "plt.plot(x_data, y_data, '.')"
   ]
  },
  {
   "cell_type": "code",
   "execution_count": null,
   "metadata": {},
   "outputs": [],
   "source": [
    "import plotly.express as px\n",
    "fig = px.scatter(x=x_data, y=y_data)\n",
    "fig.show()"
   ]
  },
  {
   "cell_type": "code",
   "execution_count": null,
   "metadata": {},
   "outputs": [],
   "source": [
    "from bokeh.models import ColumnDataSource, OpenURL, TapTool\n",
    "from bokeh.plotting import figure, output_file, show\n",
    "\n",
    "output_file(\"openurl.html\")\n",
    "\n",
    "p = figure(plot_width=400, plot_height=400,\n",
    "           tools=\"tap\", title=\"Click the Dots\")\n",
    "\n",
    "source = ColumnDataSource(data=dict(\n",
    "    x=[1, 2, 3, 4, 5],\n",
    "    y=[2, 5, 8, 2, 7],\n",
    "    color=[\"navy\", \"orange\", \"olive\", \"firebrick\", \"gold\"]\n",
    "    ))\n",
    "\n",
    "p.circle('x', 'y', color='color', size=20, source=source)\n",
    "\n",
    "url = \"http://www.colors.commutercreative.com/@color/\"\n",
    "taptool = p.select(type=TapTool)\n",
    "taptool.callback = OpenURL(url=url)\n",
    "\n",
    "show(p)"
   ]
  },
  {
   "cell_type": "raw",
   "metadata": {},
   "source": [
    "<!–– Hide JupyterNotebook cell numbers etc ––!>\n",
    "<script>\n",
    "  $(document).ready(function(){\n",
    "    $('div.prompt').hide();\n",
    "    $('div.back-to-top').hide();\n",
    "    $('nav#menubar').hide();\n",
    "    $('.breadcrumb').hide();\n",
    "    $('.hidden-print').hide();\n",
    "    $('div.input').hide();\n",
    "  });\n",
    "</script>\n",
    "<footer id=\"attribution\" style=\"float:right; color:#999; background:#fff;\">\n",
    "Attribution: Created with Jupyter. Code toggle possible thanks to github.com/csaid.\n",
    "</footer>"
   ]
  },
  {
   "cell_type": "code",
   "execution_count": null,
   "metadata": {},
   "outputs": [],
   "source": []
  }
 ],
 "metadata": {
  "kernelspec": {
   "display_name": "PLAsTiCC (Python 3)",
   "language": "python",
   "name": "plasticc_3"
  },
  "language_info": {
   "codemirror_mode": {
    "name": "ipython",
    "version": 3
   },
   "file_extension": ".py",
   "mimetype": "text/x-python",
   "name": "python",
   "nbconvert_exporter": "python",
   "pygments_lexer": "ipython3",
   "version": "3.8.5"
  }
 },
 "nbformat": 4,
 "nbformat_minor": 4
}
