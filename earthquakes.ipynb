{
 "cells": [
  {
   "cell_type": "code",
   "execution_count": null,
   "metadata": {},
   "outputs": [],
   "source": [
    "import param\n",
    "import pandas as pd \n",
    "import matplotlib.pyplot as plt\n",
    "import seaborn as sns\n",
    "import panel as pn\n",
    "\n",
    "pn.extension()"
   ]
  },
  {
   "cell_type": "code",
   "execution_count": null,
   "metadata": {},
   "outputs": [],
   "source": [
    "df = pd.DataFrame({'Animal':['Pig', 'Goat' ,'Sheep', 'Frog', 'Goat', 'Goat', 'Pig', 'Sheep', \n",
    "                             'Octopus', 'Goat', 'Pig', 'Sheep', 'Octopus', 'Frog', 'Goat', 'Goat',\n",
    "                            'Pig', 'Pig', 'Sheep', 'Frog', 'Frog', 'Octopus', 'Octopus'], \n",
    "                   'Rating':[3, 10, 3, 2, 9, 10, 4, 1, \n",
    "                             1, 8, 5, 6, 2, 4, 10, 9,\n",
    "                            5, 5, 3, 2, 3, 1, 1]})"
   ]
  },
  {
   "cell_type": "code",
   "execution_count": null,
   "metadata": {},
   "outputs": [],
   "source": [
    "mag_filter = pn.widgets.RangeSlider(name='Rating', start=0, end=df.Rating.max())\n",
    "\n",
    "mag_filter # controls the ratings we want to look at"
   ]
  },
  {
   "cell_type": "code",
   "execution_count": null,
   "metadata": {},
   "outputs": [],
   "source": [
    "place_filter = pn.widgets.TextInput(placeholder='Enter an animal')\n",
    "\n",
    "place_filter # controls the animals we want to look at"
   ]
  },
  {
   "cell_type": "code",
   "execution_count": null,
   "metadata": {},
   "outputs": [],
   "source": [
    "@pn.depends(mag_filter, place_filter) # does the sorting\n",
    "def filter_df(mag_range, place):\n",
    "    lower = df.Rating>mag_range[0]\n",
    "    upper = df.Rating<mag_range[1]\n",
    "    dffilter = lower & upper\n",
    "    if place:\n",
    "        dffilter &= df.Animal.str.contains(place)\n",
    "    return df[dffilter].head()"
   ]
  },
  {
   "cell_type": "code",
   "execution_count": null,
   "metadata": {},
   "outputs": [],
   "source": [
    "filtered_view = pn.Row(\n",
    "    pn.Column(mag_filter, place_filter),\n",
    "    pn.panel(filter_df, width=400)\n",
    ")\n",
    "\n",
    "filtered_view #shows the plot"
   ]
  },
  {
   "cell_type": "raw",
   "metadata": {},
   "source": [
    "# <!–– Hide JupyterNotebook cell numbers etc ––!>\n",
    "<script>\n",
    "  $(document).ready(function(){\n",
    "    $('div.prompt').hide();\n",
    "    $('div.back-to-top').hide();\n",
    "    $('nav#menubar').hide();\n",
    "    $('.breadcrumb').hide();\n",
    "    $('.hidden-print').hide();\n",
    "    $('div.input').hide();\n",
    "  });\n",
    "</script>\n",
    "<footer id=\"attribution\" style=\"float:right; color:#999; background:#fff;\">\n",
    "Attribution: Created with Jupyter. Code toggle possible thanks to github.com/csaid.\n",
    "</footer>"
   ]
  }
 ],
 "metadata": {
  "kernelspec": {
   "display_name": "Python 3",
   "language": "python",
   "name": "python3"
  },
  "language_info": {
   "codemirror_mode": {
    "name": "ipython",
    "version": 3
   },
   "file_extension": ".py",
   "mimetype": "text/x-python",
   "name": "python",
   "nbconvert_exporter": "python",
   "pygments_lexer": "ipython3",
   "version": "3.7.7"
  }
 },
 "nbformat": 4,
 "nbformat_minor": 4
}
